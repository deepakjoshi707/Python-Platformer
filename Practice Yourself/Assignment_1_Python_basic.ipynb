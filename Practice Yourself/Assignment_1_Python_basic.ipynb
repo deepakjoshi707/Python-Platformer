{
  "cells": [
    {
      "cell_type": "markdown",
      "id": "b01d8277",
      "metadata": {
        "id": "b01d8277"
      },
      "source": [
        "[![Open In Colab](https://colab.research.google.com/assets/colab-badge.svg)](https://colab.research.google.com/github/Nepal-College-of-Information-Technology/AI-Data-Science-Worksop-2024/blob/main/Practice%20Yourself/Assignment_1_Python_basic.ipynb)"
      ]
    },
    {
      "cell_type": "markdown",
      "id": "b731f5b3",
      "metadata": {
        "id": "b731f5b3"
      },
      "source": [
        "\n",
        "# Assignment 1: Python Basics\n",
        "\n",
        "This assignment consists of three simple questions, three medium-level questions, and four more challenging (optional) questions. Please attempt the first six questions, and try the optional questions if you feel confident.\n",
        "\n",
        "### Instructions:\n",
        "- Each question is followed by a code cell. Write your solution in the provided space.\n",
        "- For optional questions, you can attempt them if you want extra practice.\n",
        "\n",
        "---\n",
        "\n",
        "## Simple Questions:\n",
        "    "
      ]
    },
    {
      "cell_type": "markdown",
      "id": "8b0ce127",
      "metadata": {
        "id": "8b0ce127"
      },
      "source": [
        "\n",
        "### 1. Print \"Hello, Python!\"\n",
        "\n",
        "**Hint**: Use the `print()` function to display text.\n",
        "    "
      ]
    },
    {
      "cell_type": "code",
      "execution_count": 1,
      "id": "9981874e",
      "metadata": {
        "colab": {
          "base_uri": "https://localhost:8080/"
        },
        "id": "9981874e",
        "outputId": "3529dd48-c732-4f12-925e-5421d23c9576"
      },
      "outputs": [
        {
          "output_type": "stream",
          "name": "stdout",
          "text": [
            "Helllo,Python!\n"
          ]
        }
      ],
      "source": [
        "print(\"Helllo,Python!\")"
      ]
    },
    {
      "cell_type": "markdown",
      "id": "a4f64b9b",
      "metadata": {
        "id": "a4f64b9b"
      },
      "source": [
        "\n",
        "### 2. Define two variables: one integer and one string. Print them together in a single sentence.\n",
        "\n",
        "**Hint**: Use `print()` and string concatenation or formatted strings.    "
      ]
    },
    {
      "cell_type": "code",
      "execution_count": 2,
      "id": "3b374cac",
      "metadata": {
        "colab": {
          "base_uri": "https://localhost:8080/"
        },
        "id": "3b374cac",
        "outputId": "e8b26fa2-6c3f-4370-8c83-67f8af16b76a"
      },
      "outputs": [
        {
          "output_type": "stream",
          "name": "stdout",
          "text": [
            "Deepak Joshi 78\n"
          ]
        }
      ],
      "source": [
        "name = \"Deepak Joshi\"\n",
        "age = 78\n",
        "print(f\"{name} {age}\")"
      ]
    },
    {
      "cell_type": "markdown",
      "id": "3ed1d351",
      "metadata": {
        "id": "3ed1d351"
      },
      "source": [
        "\n",
        "### 3. Create a list of 5 numbers. Print the sum of the numbers.\n",
        "\n",
        "**Hint**: Use the `sum()` function.\n"
      ]
    },
    {
      "cell_type": "code",
      "execution_count": 3,
      "id": "32a7486d",
      "metadata": {
        "colab": {
          "base_uri": "https://localhost:8080/"
        },
        "id": "32a7486d",
        "outputId": "49a500d7-d571-44df-f45d-008a6009373e"
      },
      "outputs": [
        {
          "output_type": "stream",
          "name": "stdout",
          "text": [
            "Addition: 21\n"
          ]
        }
      ],
      "source": [
        "My_list = [2,7,5,4,3]\n",
        "\n",
        "Addition = sum(My_list)\n",
        "print(\"Addition:\",Addition)\n"
      ]
    },
    {
      "cell_type": "markdown",
      "id": "a3ade1a0",
      "metadata": {
        "id": "a3ade1a0"
      },
      "source": [
        "\n",
        "---\n",
        "\n",
        "## Medium-Level Questions:\n",
        "    "
      ]
    },
    {
      "cell_type": "markdown",
      "id": "01a6f9ee",
      "metadata": {
        "id": "01a6f9ee"
      },
      "source": [
        "\n",
        "### 4. Write a function that takes two numbers and returns their product.\n",
        "\n",
        "**Hint**: Use the `def` keyword to define a function, and use the `return` statement to return the result.\n",
        "\n",
        "    "
      ]
    },
    {
      "cell_type": "code",
      "execution_count": 4,
      "id": "83a4861a",
      "metadata": {
        "colab": {
          "base_uri": "https://localhost:8080/"
        },
        "id": "83a4861a",
        "outputId": "3849feb6-1594-4f13-b4a2-70ebfef4723b"
      },
      "outputs": [
        {
          "output_type": "stream",
          "name": "stdout",
          "text": [
            "Product: 1792\n"
          ]
        }
      ],
      "source": [
        "def product(x,y):\n",
        "  return x * y\n",
        "\n",
        "answer = product(56,32)\n",
        "print(\"Product:\",answer)"
      ]
    },
    {
      "cell_type": "markdown",
      "id": "f981eef5",
      "metadata": {
        "id": "f981eef5"
      },
      "source": [
        "\n",
        "### 5. Use a `for` loop to print the numbers from 1 to 10.\n",
        "\n",
        "**Hint**: Use the `range()` function to generate the numbers.\n",
        "\n",
        "\n",
        "    "
      ]
    },
    {
      "cell_type": "code",
      "execution_count": 5,
      "id": "d7c96f4a",
      "metadata": {
        "colab": {
          "base_uri": "https://localhost:8080/"
        },
        "id": "d7c96f4a",
        "outputId": "7aa652a5-1de8-4254-f29a-2f2e752b1bd6"
      },
      "outputs": [
        {
          "output_type": "stream",
          "name": "stdout",
          "text": [
            "1\n",
            "2\n",
            "3\n",
            "4\n",
            "5\n",
            "6\n",
            "7\n",
            "8\n",
            "9\n",
            "10\n"
          ]
        }
      ],
      "source": [
        "for i in range(1,11):\n",
        "  print(i)"
      ]
    },
    {
      "cell_type": "markdown",
      "id": "f813fcc9",
      "metadata": {
        "id": "f813fcc9"
      },
      "source": [
        "\n",
        "### 6. Write a function that checks if a number is prime.\n",
        "\n",
        "**Hint**: A prime number is a number greater than 1 that has no divisors other than 1 and itself.\n",
        "\n",
        "    "
      ]
    },
    {
      "cell_type": "code",
      "execution_count": 6,
      "id": "9f4804b4",
      "metadata": {
        "colab": {
          "base_uri": "https://localhost:8080/"
        },
        "id": "9f4804b4",
        "outputId": "cedd52c3-f728-4cfb-f275-e269bd46c3ee"
      },
      "outputs": [
        {
          "output_type": "stream",
          "name": "stdout",
          "text": [
            "65 is not prime\n"
          ]
        }
      ],
      "source": [
        "def isit_prime(n):\n",
        "\n",
        "  if n <= 1:\n",
        "    return False\n",
        "  if n <= 3:\n",
        "    return True\n",
        "  if n % 2 == 0 or n % 3 == 0:\n",
        "    return False\n",
        "    i = 7\n",
        "\n",
        "    while i* i <=n:\n",
        "      if n % i == 0 and n % (i +2):\n",
        "        return False\n",
        "\n",
        "      i += 8\n",
        "      return True\n",
        "\n",
        "\n",
        "number = 65\n",
        "\n",
        "if isit_prime(number):\n",
        "  print(f\"{number} is prime\")\n",
        "\n",
        "else:\n",
        "  print(f\"{number} is not prime\")\n",
        "\n"
      ]
    },
    {
      "cell_type": "markdown",
      "id": "54b82acb",
      "metadata": {
        "id": "54b82acb"
      },
      "source": [
        "\n",
        "---\n",
        "\n",
        "## Optional (More Challenging) Questions:\n",
        "    "
      ]
    },
    {
      "cell_type": "markdown",
      "id": "8471b0dc",
      "metadata": {
        "id": "8471b0dc"
      },
      "source": [
        "\n",
        "### 7. Write a program that reverses a string provided by the user.\n",
        "\n",
        "**Hint**: You can reverse a string by slicing with a negative step `[::-1]`.\n",
        "    "
      ]
    },
    {
      "cell_type": "code",
      "execution_count": 8,
      "id": "5514ec5a",
      "metadata": {
        "colab": {
          "base_uri": "https://localhost:8080/"
        },
        "id": "5514ec5a",
        "outputId": "14bec623-85aa-4a49-b8e7-8fdfcc288111"
      },
      "outputs": [
        {
          "output_type": "stream",
          "name": "stdout",
          "text": [
            "ytilaeR\n"
          ]
        }
      ],
      "source": [
        "word = \"Reality\" [::-1]\n",
        "print(word)"
      ]
    },
    {
      "cell_type": "markdown",
      "id": "530509e0",
      "metadata": {
        "id": "530509e0"
      },
      "source": [
        "\n",
        "### 8. Create a program that finds the factorial of a number.\n",
        "\n",
        "**Hint**: The factorial of `n` is the product of all positive integers less than or equal to `n`. You can use a loop or recursion to solve this.\n",
        "\n",
        "    "
      ]
    },
    {
      "cell_type": "code",
      "execution_count": 12,
      "id": "0c791a7e",
      "metadata": {
        "colab": {
          "base_uri": "https://localhost:8080/"
        },
        "id": "0c791a7e",
        "outputId": "15471778-5cd6-4ddc-b631-e708b00cfb42"
      },
      "outputs": [
        {
          "output_type": "stream",
          "name": "stdout",
          "text": [
            "Enter a number:5\n",
            "The factorial is  5 is:  120\n"
          ]
        }
      ],
      "source": [
        "n = int(input(\"Enter a number:\"))\n",
        "fact =1\n",
        "if n < 0:\n",
        "  print(\"The factorial doesn't exist\")\n",
        "elif n == 0 and n == 1:\n",
        "  print(\"Its factorial is 1\")\n",
        "\n",
        "else:\n",
        "     for i in range(1,(n + 1)):\n",
        "           fact = fact*i\n",
        "     print(\"The factorial is \",n ,\"is: \",fact)\n"
      ]
    },
    {
      "cell_type": "markdown",
      "id": "525b8911",
      "metadata": {
        "id": "525b8911"
      },
      "source": [
        "\n",
        "### 9. Write a function to calculate the Fibonacci sequence up to a given number.\n",
        "\n",
        "**Hint**: Each number in the sequence is the sum of the two preceding ones, starting from 0 and 1.\n",
        "\n",
        "\n",
        "    "
      ]
    },
    {
      "cell_type": "code",
      "execution_count": 13,
      "id": "de48a240",
      "metadata": {
        "colab": {
          "base_uri": "https://localhost:8080/"
        },
        "id": "de48a240",
        "outputId": "619564f9-6a60-4d85-c344-b9bab5a87285"
      },
      "outputs": [
        {
          "output_type": "stream",
          "name": "stdout",
          "text": [
            "0 1 1 2 3 5 8 13 21 \n"
          ]
        }
      ],
      "source": [
        "def fibonacci(number):\n",
        "    x, y = 0, 1\n",
        "    while x < number:\n",
        "        print(x, end=\" \")\n",
        "        x, y = y, x + y\n",
        "    print()\n",
        "\n",
        "fibonacci(30)"
      ]
    },
    {
      "cell_type": "markdown",
      "id": "7aab01a3",
      "metadata": {
        "id": "7aab01a3"
      },
      "source": [
        "\n",
        "### 10. Find the largest number in a list without using the `max()` function.\n",
        "\n",
        "**Hint**: Use a loop to compare each element of the list and keep track of the largest value.\n",
        "\n",
        "    "
      ]
    },
    {
      "cell_type": "code",
      "execution_count": 14,
      "id": "180659db",
      "metadata": {
        "colab": {
          "base_uri": "https://localhost:8080/"
        },
        "id": "180659db",
        "outputId": "950cd0b8-9d2d-4e88-9fe0-500fa450b8c4"
      },
      "outputs": [
        {
          "output_type": "stream",
          "name": "stdout",
          "text": [
            "15\n"
          ]
        }
      ],
      "source": [
        "New_List = [5,8,2,9,15]\n",
        "largest_value = max(New_List)\n",
        "print(largest_value)"
      ]
    }
  ],
  "metadata": {
    "kernelspec": {
      "display_name": "base",
      "language": "python",
      "name": "python3"
    },
    "language_info": {
      "codemirror_mode": {
        "name": "ipython",
        "version": 3
      },
      "file_extension": ".py",
      "mimetype": "text/x-python",
      "name": "python",
      "nbconvert_exporter": "python",
      "pygments_lexer": "ipython3",
      "version": "3.10.6"
    },
    "colab": {
      "provenance": [],
      "toc_visible": true
    }
  },
  "nbformat": 4,
  "nbformat_minor": 5
}